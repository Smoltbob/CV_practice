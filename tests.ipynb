{
 "cells": [
  {
   "cell_type": "code",
   "execution_count": 1,
   "metadata": {},
   "outputs": [],
   "source": [
    "import matplotlib.pyplot as plt\n",
    "import numpy as np\n",
    "from skimage import measure\n",
    "import pandas as pd"
   ]
  },
  {
   "cell_type": "code",
   "execution_count": 2,
   "metadata": {},
   "outputs": [
    {
     "data": {
      "image/png": "[encoded data removed]",
      "text/plain": [
       "<Figure size 432x288 with 1 Axes>"
      ]
     },
     "metadata": {
      "needs_background": "light"
     },
     "output_type": "display_data"
    },
    {
     "name": "stdout",
     "output_type": "stream",
     "text": [
      "(24.485793468871623, 24.501266572370298)\n",
      "[[ 2.30639054e+03 -1.13686838e-13  4.77284829e+05  4.40415035e+03]\n",
      " [-4.99777997e-12 -1.13259476e+02  4.28946833e+03  1.66821630e+04]\n",
      " [ 4.69873314e+05 -1.13882892e+03  9.73567540e+07  2.20457969e+06]\n",
      " [ 4.59023262e+03 -1.77153944e+04  2.95828363e+06  4.45285430e+06]]\n"
     ]
    },
    {
     "data": {
      "text/plain": [
       "array([[            nan,             nan,  8.97246833e-02,\n",
       "         1.72397124e-05],\n",
       "       [            nan, -2.12916272e-05,  1.67907984e-05,\n",
       "         1.35973356e-06],\n",
       "       [ 8.83313941e-02, -4.45785942e-06,  7.93537659e-03,\n",
       "         3.74162996e-06],\n",
       "       [ 1.79681173e-05, -1.44395042e-06,  5.02082221e-06,\n",
       "         1.57364619e-07]])"
      ]
     },
     "execution_count": 2,
     "metadata": {},
     "output_type": "execute_result"
    }
   ],
   "source": [
    "dims = 50\n",
    "x, y = np.meshgrid(np.linspace(-1,1,dims), np.linspace(-1,1,dims))\n",
    "d = np.sqrt((x/2)*(x/2)+y*y)\n",
    "sigma, mu = 5, -2\n",
    "g = np.exp(-( (d-mu)**2 / ( 2.0 * sigma**2 ) ) )\n",
    "g += np.random.rand(dims,dims) * 0.1\n",
    "plt.imshow(g)\n",
    "plt.show()\n",
    "\n",
    "\n",
    "M = measure.moments(g)\n",
    "centroid = (M[1, 0] / M[0, 0], M[0, 1] / M[0, 0])\n",
    "print(centroid)\n",
    "print(measure.moments_central(g, centroid))\n",
    "measure.moments_normalized(g, 2)\n",
    "\n",
    "mu = measure.moments_central(g, centroid)\n",
    "measure.moments_normalized(mu)"
   ]
  },
  {
   "cell_type": "code",
   "execution_count": 27,
   "metadata": {},
   "outputs": [
    {
     "name": "stdout",
     "output_type": "stream",
     "text": [
      "[False  True] (50, 50)\n",
      "[False  True] (180, 180)\n"
     ]
    },
    {
     "data": {
      "image/png": "[encoded data removed]",
      "text/plain": [
       "<Figure size 432x288 with 1 Axes>"
      ]
     },
     "metadata": {
      "needs_background": "light"
     },
     "output_type": "display_data"
    },
    {
     "name": "stdout",
     "output_type": "stream",
     "text": [
      "centroid-0                                                          74\n",
      "centroid-1                                                         106\n",
      "orientation                                                  0.0193259\n",
      "major_axis_length                                              65.7469\n",
      "minor_axis_length                                              46.2545\n",
      "area                                                              1401\n",
      "filled_area                                                       1477\n",
      "convex_area                                                       2821\n",
      "eccentricity                                                  0.710672\n",
      "solidity                                                      0.496632\n",
      "euler_number                                                       -28\n",
      "convex_image         [[False, False, False, False, False, False, Fa...\n",
      "Name: 8, dtype: object\n",
      "0.4966323998582063\n"
     ]
    },
    {
     "data": {
      "image/png": "[encoded data removed]",
      "text/plain": [
       "<Figure size 432x288 with 1 Axes>"
      ]
     },
     "metadata": {
      "needs_background": "light"
     },
     "output_type": "display_data"
    }
   ],
   "source": [
    "import math\n",
    "import matplotlib.pyplot as plt\n",
    "import numpy as np\n",
    "import pandas as pd\n",
    "\n",
    "from skimage import io\n",
    "from skimage.draw import draw, ellipse\n",
    "from skimage.measure import label, regionprops, regionprops_table\n",
    "from skimage.transform import rotate\n",
    "from skimage.filters import threshold_otsu\n",
    "\n",
    "image = g\n",
    "threshold_global_otsu = threshold_otsu(g)\n",
    "image = g >= threshold_global_otsu\n",
    "print(np.unique(image), np.shape(image))\n",
    "image = io.imread(\"upwhite.png\") > 0.5\n",
    "image = image[0:180,0:180,0]\n",
    "print(np.unique(image), np.shape(image))\n",
    "\n",
    "label_img = label(image)\n",
    "regions = regionprops(label_img)\n",
    "\n",
    "fig, ax = plt.subplots()\n",
    "ax.imshow(image, cmap=plt.cm.gray)\n",
    "\n",
    "for props in regions:\n",
    "    if props.area > 1400:\n",
    "        y0, x0 = props.centroid\n",
    "        orientation = props.orientation\n",
    "        x1 = x0 + math.cos(orientation) * 0.5 * props.minor_axis_length\n",
    "        y1 = y0 - math.sin(orientation) * 0.5 * props.minor_axis_length\n",
    "        x2 = x0 - math.sin(orientation) * 0.5 * props.major_axis_length\n",
    "        y2 = y0 - math.cos(orientation) * 0.5 * props.major_axis_length\n",
    "\n",
    "        ax.plot((x0, x1), (y0, y1), '-r', linewidth=2.5)\n",
    "        ax.plot((x0, x2), (y0, y2), '-r', linewidth=2.5)\n",
    "        ax.plot(x0, y0, '.g', markersize=15)\n",
    "        \n",
    "        rr,cc = draw.ellipse_perimeter(int(x0),int(y0),int(props.minor_axis_length*0.5),int(props.major_axis_length*0.5), orientation = props.orientation)\n",
    "        angle = np.arctan2(rr - np.mean(rr), cc - np.mean(cc))\n",
    "        sorted_by_angle = np.argsort(angle)\n",
    "        rrs = rr[sorted_by_angle]\n",
    "        ccs = cc[sorted_by_angle]\n",
    "        plt.plot(rrs,ccs, color = 'orange', linewidth=2.5)\n",
    "\n",
    "        minr, minc, maxr, maxc = props.bbox\n",
    "        bx = (minc, maxc, maxc, minc, minc)\n",
    "        by = (minr, minr, maxr, maxr, minr)\n",
    "        #ax.plot(bx, by, '-b', linewidth=2.5)\n",
    "\n",
    "plt.axis(\"off\")\n",
    "plt.show()\n",
    "\n",
    "props = regionprops_table(label_img, properties=('centroid',\n",
    "                                                 'orientation',\n",
    "                                                 'major_axis_length',\n",
    "                                                 'minor_axis_length',\n",
    "                                                'area',\n",
    "                                                 'filled_area',\n",
    "                                                'convex_area',\n",
    "                                                'eccentricity',\n",
    "                                                'solidity',\n",
    "                                                'euler_number',\n",
    "                                                 \"convex_image\"\n",
    "                                                ))\n",
    "res = pd.DataFrame(props).sort_values(by=[\"area\"], ascending=False).iloc[0]\n",
    "print(res)\n",
    "print(res[\"area\"]/res[\"convex_area\"])\n",
    "\n",
    "plt.imshow(res[\"convex_image\"])\n",
    "plt.show()"
   ]
  },
  {
   "cell_type": "code",
   "execution_count": null,
   "metadata": {},
   "outputs": [],
   "source": []
  }
 ],
 "metadata": {
  "kernelspec": {
   "display_name": "Python 3",
   "language": "python",
   "name": "python3"
  },
  "language_info": {
   "codemirror_mode": {
    "name": "ipython",
    "version": 3
   },
   "file_extension": ".py",
   "mimetype": "text/x-python",
   "name": "python",
   "nbconvert_exporter": "python",
   "pygments_lexer": "ipython3",
   "version": "3.7.6"
  }
 },
 "nbformat": 4,
 "nbformat_minor": 2
}
